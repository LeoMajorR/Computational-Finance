{
 "cells": [
  {
   "cell_type": "code",
   "execution_count": 1,
   "metadata": {},
   "outputs": [],
   "source": [
    "import numpy as np\n",
    "from scipy.stats import norm"
   ]
  },
  {
   "attachments": {},
   "cell_type": "markdown",
   "metadata": {},
   "source": [
    "### Input Data"
   ]
  },
  {
   "cell_type": "code",
   "execution_count": 2,
   "metadata": {},
   "outputs": [],
   "source": [
    "r = 1 # risk free interest rate\n",
    "S = 36.07 # spot price\n",
    "K = 35.00 # strike price\n",
    "T = 0.0767 # time to maturity in days= 28\n",
    "sigma = 0.4825 # annualized volatility 48.25%"
   ]
  },
  {
   "attachments": {},
   "cell_type": "markdown",
   "metadata": {},
   "source": [
    "#### Calculation"
   ]
  },
  {
   "cell_type": "code",
   "execution_count": 3,
   "metadata": {},
   "outputs": [],
   "source": [
    "# function to calculate the delta of a call option\n",
    "def delta(S, K, T, r, sigma):\n",
    "    d1 = (np.log(S/K) + (r + 0.5 * sigma**2) * T) / (sigma * np.sqrt(T))\n",
    "    delta = norm.cdf(d1)\n",
    "    return delta\n",
    "\n",
    "# function to calculate the gamma of a call option\n",
    "def gamma(S, K, T, r, sigma):\n",
    "    d1 = (np.log(S/K) + (r + 0.5 * sigma**2) * T) / (sigma * np.sqrt(T))\n",
    "    gamma = norm.pdf(d1) / (S * sigma * np.sqrt(T))\n",
    "    return gamma\n",
    "\n",
    "# function to calculate the theta of a call option\n",
    "def theta(S, K, T, r, sigma):\n",
    "    d1 = (np.log(S/K) + (r + 0.5 * sigma**2) * T) / (sigma * np.sqrt(T))\n",
    "    d2 = d1 - sigma * np.sqrt(T)\n",
    "    theta = -S * norm.pdf(d1) * sigma / (2 * np.sqrt(T)) - r * K * np.exp(-r * T) * norm.cdf(d2)\n",
    "    return theta\n",
    "\n",
    "# function to calculate the vega of a call option\n",
    "def vega(S, K, T, r, sigma):\n",
    "    d1 = (np.log(S/K) + (r + 0.5 * sigma**2) * T) / (sigma * np.sqrt(T))\n",
    "    vega = S * norm.pdf(d1) * np.sqrt(T)\n",
    "    return vega\n",
    "\n",
    "# function to calculate the rho of a call option\n",
    "def rho(S, K, T, r, sigma):\n",
    "    d1 = (np.log(S/K) + (r + 0.5 * sigma**2) * T) / (sigma * np.sqrt(T))\n",
    "    d2 = d1 - sigma * np.sqrt(T)\n",
    "    rho = K * T * np.exp(-r * T) * norm.cdf(d2)\n",
    "    return rho"
   ]
  },
  {
   "attachments": {},
   "cell_type": "markdown",
   "metadata": {},
   "source": [
    "#### Delta\n",
    "Delta measures an option's sensitivity to changes in the price of the underlying asset.\n",
    "$$\\Delta = \\frac{\\partial V}{\\partial S}$$\n",
    "where $V$ is the option price and $S$ is the price of the underlying asset.\n",
    "\n",
    "#### Gamma\n",
    "Gamma measures an option's sensitivity to changes in the delta.\n",
    "$$\\Gamma = \\frac{\\partial^2 V}{\\partial S^2}$$\n",
    "\n",
    "#### Theta\n",
    "Theta measures an option's sensitivity to changes in time until expiration.\n",
    "$$\\Theta = \\frac{\\partial V}{\\partial t}$$\n",
    "\n",
    "#### Vega\n",
    "Vega measures an option's sensitivity to changes in volatility.\n",
    "$$\\upsilon = \\frac{\\partial V}{\\partial \\sigma}$$\n",
    "\n",
    "#### Rho\n",
    "Rho measures an option's sensitivity to changes in interest rates.\n",
    "$$\\Rho = \\frac{\\partial V}{\\partial r}$$"
   ]
  },
  {
   "cell_type": "code",
   "execution_count": 4,
   "metadata": {},
   "outputs": [
    {
     "name": "stdout",
     "output_type": "stream",
     "text": [
      "Delta:  0.8067966998212326\n",
      "Gamma:  0.05688014964610354\n",
      "Theta:  -33.51210236919641\n",
      "Vega:  2.7387077866288068\n",
      "Rho:  1.9096649981931653\n"
     ]
    }
   ],
   "source": [
    "# value of option greeks\n",
    "print(\"Delta: \", delta(S, K, T, r, sigma))\n",
    "print(\"Gamma: \", gamma(S, K, T, r, sigma))\n",
    "print(\"Theta: \", theta(S, K, T, r, sigma))\n",
    "print(\"Vega: \", vega(S, K, T, r, sigma))\n",
    "print(\"Rho: \", rho(S, K, T, r, sigma))"
   ]
  },
  {
   "cell_type": "markdown",
   "metadata": {},
   "source": []
  }
 ],
 "metadata": {
  "kernelspec": {
   "display_name": "Python 3",
   "language": "python",
   "name": "python3"
  },
  "language_info": {
   "codemirror_mode": {
    "name": "ipython",
    "version": 3
   },
   "file_extension": ".py",
   "mimetype": "text/x-python",
   "name": "python",
   "nbconvert_exporter": "python",
   "pygments_lexer": "ipython3",
   "version": "3.10.4 (tags/v3.10.4:9d38120, Mar 23 2022, 23:13:41) [MSC v.1929 64 bit (AMD64)]"
  },
  "orig_nbformat": 4,
  "vscode": {
   "interpreter": {
    "hash": "26de051ba29f2982a8de78e945f0abaf191376122a1563185a90213a26c5da77"
   }
  }
 },
 "nbformat": 4,
 "nbformat_minor": 2
}
